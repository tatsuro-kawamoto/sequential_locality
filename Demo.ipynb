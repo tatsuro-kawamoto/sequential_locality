{
 "cells": [
  {
   "cell_type": "markdown",
   "id": "advance-sailing",
   "metadata": {},
   "source": [
    "# Statistical tests for the sequential locality"
   ]
  },
  {
   "cell_type": "code",
   "execution_count": 1,
   "id": "desirable-boxing",
   "metadata": {},
   "outputs": [],
   "source": [
    "import numpy as np\n",
    "import sequential_locality as seq\n",
    "import ORGM as orgm\n",
    "import igraph\n",
    "\n",
    "import matplotlib.pyplot as plt\n",
    "import seaborn as sns\n",
    "from matplotlib.colors import LinearSegmentedColormap\n",
    "myColors = (\"#EBEBEB\", \"#FFFFFF\", \"#666C6F\")\n",
    "cmap = LinearSegmentedColormap.from_list('Custom', myColors, len(myColors))"
   ]
  },
  {
   "cell_type": "markdown",
   "id": "involved-receipt",
   "metadata": {},
   "source": [
    "## Significance test of the sequential locality for unoptimized adjacency matrices\n",
    "\n",
    "### Uniform random graph\n",
    "The experiment below shows that the p-value is indeed typically large when a graph is generated from a uniform random graph model."
   ]
  },
  {
   "cell_type": "code",
   "execution_count": 2,
   "id": "destroyed-vietnam",
   "metadata": {},
   "outputs": [
    {
     "data": {
      "text/plain": [
       "{'H1': 1.0267857142857142,\n",
       " 'z1': 0.3659625273556986,\n",
       " 'H1 p-value (ER/ORGM)': 0.6428034811828364,\n",
       " 'H1 p-value (random)': 0.6886315584709193,\n",
       " 'bandwidth_opt': None,\n",
       " 'simple_graph_assumption': True}"
      ]
     },
     "execution_count": 2,
     "metadata": {},
     "output_type": "execute_result"
    }
   ],
   "source": [
    "# Uniform random graph\n",
    "s = seq.SequentialLocality(\n",
    "    g = igraph.Graph.Erdos_Renyi(n=20,m=80)\n",
    "    )\n",
    "s.H1()"
   ]
  },
  {
   "cell_type": "markdown",
   "id": "computational-austria",
   "metadata": {},
   "source": [
    "- When `sequence` is not provided, the intrinsic (unoptimized) vertex sequence is used."
   ]
  },
  {
   "cell_type": "markdown",
   "id": "unnecessary-timing",
   "metadata": {},
   "source": [
    "## Ordered Random Graph Model (ORGM)\n",
    "\n",
    "ORGM is a random graph model in which the vertices within the \"envelope\" (vertices corresponding to the adjacency matrix elements near the diagonal) are statisticaly equivalent. \n",
    "In this implementation, a banded structure is assumed as the envelope, which is parameterized solely by the bandwidth."
   ]
  },
  {
   "cell_type": "code",
   "execution_count": 3,
   "id": "specialized-threat",
   "metadata": {},
   "outputs": [
    {
     "data": {
      "image/png": "[encoded data removed]",
      "text/plain": [
       "<Figure size 432x288 with 1 Axes>"
      ]
     },
     "metadata": {},
     "output_type": "display_data"
    }
   ],
   "source": [
    "# An ORGM instance can be generated as follows\n",
    "N = 20\n",
    "M = 80\n",
    "edgelist, valid = orgm.ORGM(N=N, M=M, bandwidth=int(round(0.5*N)), epsilon=0.25)\n",
    "\n",
    "# Convert the edgelist to the graph\n",
    "N_ = int(1+np.max(edgelist))\n",
    "g_orgm = igraph.Graph()\n",
    "g_orgm.add_vertices(N_)\n",
    "g_orgm.add_edges(edgelist)\n",
    "Adj = np.array(g_orgm.get_adjacency().data)\n",
    "\n",
    "res = sns.heatmap(Adj, cmap=cmap, \n",
    "                  cbar=False, square=True, xticklabels=False, yticklabels=False)\n",
    "for _, spine in res.spines.items(): #add frame\n",
    "    spine.set_visible(True)"
   ]
  },
  {
   "cell_type": "markdown",
   "id": "herbal-powell",
   "metadata": {},
   "source": [
    "The experiment below shows that the p-value is small if an instance of the ORGM is tested."
   ]
  },
  {
   "cell_type": "code",
   "execution_count": 4,
   "id": "freelance-injury",
   "metadata": {},
   "outputs": [
    {
     "data": {
      "text/plain": [
       "{'H1': 0.8160714285714286,\n",
       " 'z1': -2.512942687842473,\n",
       " 'H1 p-value (ER/ORGM)': 0.005986439194522947,\n",
       " 'H1 p-value (random)': 0.000576579686183946,\n",
       " 'bandwidth_opt': None,\n",
       " 'simple_graph_assumption': True}"
      ]
     },
     "execution_count": 4,
     "metadata": {},
     "output_type": "execute_result"
    }
   ],
   "source": [
    "# Significance test of the unoptimized vertex sequence\n",
    "s = seq.SequentialLocality(g_orgm)\n",
    "s.H1()"
   ]
  },
  {
   "cell_type": "markdown",
   "id": "miniature-suspension",
   "metadata": {
    "tags": []
   },
   "source": [
    "## Significance test of the sequential locality for optimized adjacency matrices\n",
    "\n",
    "When the ordering of the adjacency matrix is optimized (the vertex sequences are optimized) or the matrix has a trivial sequentially local structure, you should try the `in_envelope=True` option. \n",
    "In this case, the statistical test of uniformity is conducted within the (estimated) envelope. \n",
    "\n",
    "In the experiment below, we use the same graph generated from the ORGM. However, the p-value is typically large when `in_envelope=True` because the ORGM has a uniformly random structure within the envelope."
   ]
  },
  {
   "cell_type": "code",
   "execution_count": 5,
   "id": "sharp-input",
   "metadata": {},
   "outputs": [
    {
     "data": {
      "text/plain": [
       "{'H1': 0.7316602316602316,\n",
       " 'z1': -3.5260567115512953,\n",
       " 'H1 p-value (ER/ORGM)': 0.7965408744321403,\n",
       " 'H1 p-value (random)': 7.447376913265636e-06,\n",
       " 'bandwidth_opt': 10,\n",
       " 'simple_graph_assumption': True}"
      ]
     },
     "execution_count": 5,
     "metadata": {},
     "output_type": "execute_result"
    }
   ],
   "source": [
    "# Significance test of the optimized vertex sequence\n",
    "sequence = np.arange(len(g_orgm.vs))\n",
    "s = seq.SequentialLocality(g=g_orgm, sequence=sequence)\n",
    "s.H1(in_envelope=True)"
   ]
  },
  {
   "cell_type": "markdown",
   "id": "developmental-elimination",
   "metadata": {},
   "source": [
    "- The optimized sequence is provided as `sequence` in `SequentialLocality`.\n",
    "- By setting `in_envelope=True`, you can assess the sequential locality inside of the envelope.\n",
    "- Unless provided, the optimal bandwidth (`bandwidth_opt`) is automatically determined based on the maximum likelihood estimate of the ORGM."
   ]
  },
  {
   "cell_type": "markdown",
   "id": "tropical-stroke",
   "metadata": {},
   "source": [
    "## Real-world dataset\n",
    "\n",
    "Hereafter, we show applications using a real-world dataset. "
   ]
  },
  {
   "cell_type": "code",
   "execution_count": 6,
   "id": "modular-sudan",
   "metadata": {},
   "outputs": [],
   "source": [
    "import graph_tool.all as gt\n",
    "import spectral\n",
    "\n",
    "g_real = gt.collection.ns['montreal']\n",
    "g_real.set_directed(False)\n",
    "g_real = gt.extract_largest_component(g_real, directed=None, prune=True)"
   ]
  },
  {
   "cell_type": "markdown",
   "id": "academic-delivery",
   "metadata": {},
   "source": [
    "- The input can be an edgelist or a graph object (in igraph or graph-tool)\n",
    "- The graph has to be undirected & unweighted\n",
    "- When you use a graph object, you specify the graph format in `format`"
   ]
  },
  {
   "cell_type": "markdown",
   "id": "conditional-tsunami",
   "metadata": {},
   "source": [
    "### Test for the unoptimized vertex sequence"
   ]
  },
  {
   "cell_type": "code",
   "execution_count": 7,
   "id": "proper-stations",
   "metadata": {},
   "outputs": [
    {
     "data": {
      "text/plain": [
       "{'H1': 0.9146666666666666,\n",
       " 'z1': -1.1016485962545546,\n",
       " 'H1 p-value (ER/ORGM)': 0.13530723628058028,\n",
       " 'H1 p-value (random)': 0.17180253420327252,\n",
       " 'bandwidth_opt': None,\n",
       " 'simple_graph_assumption': True}"
      ]
     },
     "execution_count": 7,
     "metadata": {},
     "output_type": "execute_result"
    }
   ],
   "source": [
    "# Significance test of the unoptimized vertex sequence\n",
    "s = seq.SequentialLocality(g_real, simple=True, format='graph-tool')\n",
    "s.H1()"
   ]
  },
  {
   "cell_type": "markdown",
   "id": "armed-fleece",
   "metadata": {},
   "source": [
    "### Test for the optimized vertex sequence"
   ]
  },
  {
   "cell_type": "code",
   "execution_count": 8,
   "id": "active-decrease",
   "metadata": {},
   "outputs": [
    {
     "data": {
      "text/plain": [
       "{'H1': 0.573170731707317,\n",
       " 'z1': -4.07417672532254,\n",
       " 'H1 p-value (ER/ORGM)': 0.9999999986584482,\n",
       " 'H1 p-value (random)': 7.388270397077806e-05,\n",
       " 'bandwidth_opt': 8,\n",
       " 'simple_graph_assumption': True}"
      ]
     },
     "execution_count": 8,
     "metadata": {},
     "output_type": "execute_result"
    }
   ],
   "source": [
    "# Optimize the vertex sequence using the spectral ordering\n",
    "inferred_sequence = spectral.spectral_sequence(g_real, normalized=True, format='graph-tool')\n",
    "\n",
    "# Significance test of the optimized vertex sequence (in-envelope)\n",
    "s = seq.SequentialLocality(g_real, sequence=inferred_sequence, simple=True, format='graph-tool')\n",
    "s.H1(in_envelope=True)"
   ]
  },
  {
   "cell_type": "markdown",
   "id": "israeli-transmission",
   "metadata": {},
   "source": [
    "### Visualization\n",
    "\n",
    "Finally, let's visually check out the estimated envelope (white region)."
   ]
  },
  {
   "cell_type": "code",
   "execution_count": 9,
   "id": "curious-active",
   "metadata": {},
   "outputs": [
    {
     "data": {
      "image/png": "[encoded data removed]",
      "text/plain": [
       "<Figure size 288x288 with 1 Axes>"
      ]
     },
     "metadata": {},
     "output_type": "display_data"
    }
   ],
   "source": [
    "def Adj_vs_ORGM(Adj,r):\n",
    "    Adj_masked = Adj.copy()\n",
    "    N = Adj.shape[0]\n",
    "    for i in range(N-1):\n",
    "        for j in range(i+r+1,N):\n",
    "            if Adj[i,j] == 0:\n",
    "                Adj_masked[i,j] = -1\n",
    "                Adj_masked[j,i] = -1\n",
    "    return Adj_masked\n",
    "\n",
    "fig = plt.subplots(figsize=(4,4))\n",
    "plt.tight_layout()\n",
    "\n",
    "N = g_real.num_vertices()\n",
    "edgelist = g_real.get_edges()\n",
    "Adj = seq.get_adjacency(N, edgelist)\n",
    "Adj_opt = seq.Adjacency_optimized(Adj, inferred_sequence)\n",
    "Adj_ORGM = Adj_vs_ORGM(Adj=Adj_opt, r=s.H1(in_envelope=True)['bandwidth_opt'])\n",
    "\n",
    "res = sns.heatmap(Adj_ORGM, cmap=cmap,\n",
    "               cbar=False, square=True, xticklabels=False, yticklabels=False)\n",
    "\n",
    "for _, spine in res.spines.items(): #add frame\n",
    "    spine.set_visible(True)"
   ]
  },
  {
   "cell_type": "code",
   "execution_count": null,
   "id": "stuck-ocean",
   "metadata": {},
   "outputs": [],
   "source": []
  },
  {
   "cell_type": "code",
   "execution_count": null,
   "id": "generous-portsmouth",
   "metadata": {},
   "outputs": [],
   "source": []
  }
 ],
 "metadata": {
  "kernelspec": {
   "display_name": "python3.9",
   "language": "python",
   "name": "python3"
  },
  "language_info": {
   "codemirror_mode": {
    "name": "ipython",
    "version": 3
   },
   "file_extension": ".py",
   "mimetype": "text/x-python",
   "name": "python",
   "nbconvert_exporter": "python",
   "pygments_lexer": "ipython3",
   "version": "3.9.1"
  },
  "toc": {
   "base_numbering": 1,
   "nav_menu": {},
   "number_sections": true,
   "sideBar": true,
   "skip_h1_title": false,
   "title_cell": "Table of Contents",
   "title_sidebar": "Contents",
   "toc_cell": false,
   "toc_position": {},
   "toc_section_display": true,
   "toc_window_display": false
  }
 },
 "nbformat": 4,
 "nbformat_minor": 5
}
